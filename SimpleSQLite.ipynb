{
  "nbformat": 4,
  "nbformat_minor": 0,
  "metadata": {
    "colab": {
      "name": "Untitled11.ipynb",
      "provenance": []
    },
    "kernelspec": {
      "name": "python3",
      "display_name": "Python 3"
    }
  },
  "cells": [
    {
      "cell_type": "code",
      "metadata": {
        "id": "mdE62z4VpplY"
      },
      "source": [
        "import sqlite3"
      ],
      "execution_count": 3,
      "outputs": []
    },
    {
      "cell_type": "code",
      "metadata": {
        "id": "Bug9n_vMrMFY"
      },
      "source": [
        "class Database(object):\n",
        "  def __init__(self):\n",
        "    \n",
        "    self.connection = sqlite3.connect('Database.db')\n",
        "    self.cursor = self.connection.cursor()\n",
        "    self.table_name = \"Table_Example\"\n",
        "    \n",
        "    self.cursor.execute(f\"CREATE TABLE IF NOT EXISTS {self.table_name} (column_1 INT, column_2 TEXT, column_3 REAL)\")\n",
        "  \n",
        "  def insert_data(self):\n",
        "    column_1 = int(input(\"Enter Int: \"))\n",
        "    column_2 = input(\"Enter String: \")\n",
        "    column_3 = float(input(\"Enter Float: \"))\n",
        "\n",
        "    self.cursor.execute(f\"INSERT INTO {self.table_name} (column_1, column_2, column_3) VALUES(?,?,?)\", (column_1,column_2,column_3))\n",
        "\n",
        "    self.connection.commit()\n",
        "    print(\"Data Saved.\")\n",
        "\n",
        "  def read_data(self):\n",
        "\n",
        "    self.cursor.execute(f\"SELECT * FROM {self.table_name}\")\n",
        "\n",
        "    for row in self.cursor.fetchall():\n",
        "      print(row)\n",
        "      "
      ],
      "execution_count": 9,
      "outputs": []
    },
    {
      "cell_type": "code",
      "metadata": {
        "id": "DafSqjMzBhpG",
        "outputId": "e7ce09ca-a75c-4f23-b786-f0459d505ab4",
        "colab": {
          "base_uri": "https://localhost:8080/",
          "height": 101
        }
      },
      "source": [
        "if __name__ == \"__main__\":\n",
        "  database = Database()\n",
        "  database.insert_data()\n",
        "  database.read_data()\n",
        "\n",
        "  database.cursor.close()\n",
        "  database.connection.close()"
      ],
      "execution_count": 10,
      "outputs": [
        {
          "output_type": "stream",
          "text": [
            "Enter Int: 01\n",
            "Enter String: Anish Var Shrestha\n",
            "Enter Float: 1000.00\n",
            "Data Saved.\n",
            "(1, 'Anish Var Shrestha', 1000.0)\n"
          ],
          "name": "stdout"
        }
      ]
    },
    {
      "cell_type": "code",
      "metadata": {
        "id": "i8d58-idDOX5"
      },
      "source": [
        ""
      ],
      "execution_count": null,
      "outputs": []
    }
  ]
}